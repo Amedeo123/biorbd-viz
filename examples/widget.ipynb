{
 "cells": [
  {
   "cell_type": "code",
   "execution_count": 1,
   "metadata": {},
   "outputs": [],
   "source": [
    "import sys\n",
    "sys.path.append(\"../\")\n",
    "\n",
    "from pathlib import Path\n",
    "import matplotlib.pyplot as plt\n",
    "from pyosim import Analogs3dOsim\n",
    "import ipywidgets as widgets"
   ]
  },
  {
   "cell_type": "code",
   "execution_count": 2,
   "metadata": {},
   "outputs": [],
   "source": [
    "# Figures\n",
    "import matplotlib.pyplot as plt\n",
    "import seaborn as sns\n",
    "\n",
    "FIG_STYLE = Path('./fig_style.py')\n",
    "if not FIG_STYLE.is_file():\n",
    "    !wget --no-check-certificate --content-disposition https://github.com/romainmartinez/cookbook/raw/master/python/fig_style.py\n",
    "from fig_style import get_style, show\n",
    "plt.rcParams.update(get_style(style='mrtnz', figsize='two_col'))"
   ]
  },
  {
   "cell_type": "code",
   "execution_count": 3,
   "metadata": {},
   "outputs": [],
   "source": [
    "DATA_PATH = Path(\"/home/romain/Downloads/results/mars/1_inverse_kinematic\")\n",
    "\n",
    "trials = [str(ifile) for ifile in DATA_PATH.glob(\"*.mot\")]\n",
    "data = [Analogs3dOsim().from_mot(itrial) for itrial in trials]\n",
    "dim = [i for i in range(data[0].shape[1])]"
   ]
  },
  {
   "cell_type": "code",
   "execution_count": 11,
   "metadata": {},
   "outputs": [
    {
     "data": {
      "text/plain": [
       "(1, 25, 101)"
      ]
     },
     "execution_count": 11,
     "metadata": {},
     "output_type": "execute_result"
    }
   ],
   "source": [
    "d = data[0]\n",
    "d.time_normalization().shape"
   ]
  },
  {
   "cell_type": "code",
   "execution_count": 8,
   "metadata": {},
   "outputs": [
    {
     "data": {
      "application/vnd.jupyter.widget-view+json": {
       "model_id": "8f7c49237afb447287c5317a98e84961",
       "version_major": 2,
       "version_minor": 0
      },
      "text/plain": [
       "interactive(children=(SelectMultiple(description='Dimensions', index=(0, 1, 2, 3, 4, 5, 6, 7, 8, 9, 10, 11, 12…"
      ]
     },
     "metadata": {},
     "output_type": "display_data"
    }
   ],
   "source": [
    "@widgets.interact(\n",
    "    d=widgets.SelectMultiple(options=dim, value=dim, description=\"Dimensions\")\n",
    ")\n",
    "def update(d=dim):\n",
    "    for i in range(len(data)):\n",
    "        plt.plot(data[i][0, d, :].T)\n",
    "    show()"
   ]
  }
 ],
 "metadata": {
  "kernelspec": {
   "display_name": "Python [conda env:pyomeca]",
   "language": "python",
   "name": "conda-env-pyomeca-py"
  },
  "language_info": {
   "codemirror_mode": {
    "name": "ipython",
    "version": 3
   },
   "file_extension": ".py",
   "mimetype": "text/x-python",
   "name": "python",
   "nbconvert_exporter": "python",
   "pygments_lexer": "ipython3",
   "version": "3.6.6"
  }
 },
 "nbformat": 4,
 "nbformat_minor": 2
}
